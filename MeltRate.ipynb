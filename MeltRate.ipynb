{
 "cells": [
  {
   "cell_type": "markdown",
   "id": "ecc44fa4-6561-49ee-83c2-738b02743ca9",
   "metadata": {},
   "source": [
    "# Generating Melt Rate"
   ]
  },
  {
   "cell_type": "code",
   "execution_count": 27,
   "id": "5ee2598f-2fad-4dc5-a6f3-3c589daac5cc",
   "metadata": {},
   "outputs": [],
   "source": [
    "import numpy as np"
   ]
  },
  {
   "cell_type": "markdown",
   "id": "350e2278-fe78-4824-b919-99b4b21c1b92",
   "metadata": {},
   "source": [
    "This notebook is for generating the mm/hr rainfall rate that is needed for OverlandFlow. "
   ]
  },
  {
   "cell_type": "markdown",
   "id": "98cce2b4-095b-4af4-963c-49bde3719aae",
   "metadata": {},
   "source": [
    "We will start by defining three scenarios for melting. Generally, the degree-day-factor (DDF) for snow melt is about 3-5 millimeters-per-day-kelvin. We will use 3 for our DDF. We will use three positive temperature for our three scenarios: 0.5, 4, and 10 degrees celsius.\n",
    "\n",
    "We will start by create a column vector with computed melt as values (dimensions of this vector will be 3-by-1)."
   ]
  },
  {
   "cell_type": "markdown",
   "id": "9ce0b898-6615-428e-b60c-de0ea7581811",
   "metadata": {},
   "source": [
    "First, start by creating a numpy array called Temperature with the temperature values of 0.5, 4, and 10 degrees Celsius. Then, convert the vector into Kelvin."
   ]
  },
  {
   "cell_type": "code",
   "execution_count": 31,
   "id": "438e83f6-e062-4b42-ac4f-cee69e152af0",
   "metadata": {},
   "outputs": [],
   "source": []
  },
  {
   "cell_type": "markdown",
   "id": "9ab9be93-9b8d-4ba2-8617-53e00e9fc8e0",
   "metadata": {},
   "source": [
    "<details>\n",
    "    <summary>👉 <b>Click to see solution</b></summary>\n",
    "\n",
    "```python\n",
    "Temperature = np.array([0.5,4,10]) #Celsius\n",
    "Temperature = Temperature + 273 #Kelvin\n",
    "```\n",
    "</details>"
   ]
  },
  {
   "cell_type": "markdown",
   "id": "ad060ed1-848b-4cdf-a2d3-0d230a055b14",
   "metadata": {},
   "source": [
    "Now, we need to define our DDF variable (DDF_snow_day), and convert it to units of Celsius."
   ]
  },
  {
   "cell_type": "code",
   "execution_count": null,
   "id": "7f371272-4920-49b0-8e9d-0b04a4b1505a",
   "metadata": {},
   "outputs": [],
   "source": []
  },
  {
   "cell_type": "markdown",
   "id": "35a25607-027a-4f05-8afb-c4332c617b5e",
   "metadata": {},
   "source": [
    "<details>\n",
    "    <summary>👉 <b>Click to see solution</b></summary>\n",
    "\n",
    "```python\n",
    "DDF_snow = 4 #daily\n",
    "DDF_snow = DDF_snow_day/24 #hourly\n",
    "```\n",
    "</details>"
   ]
  },
  {
   "cell_type": "markdown",
   "id": "ad3f1b44-d958-4570-93c3-82d26674c076",
   "metadata": {},
   "source": [
    "\n",
    "\n",
    "Next, we will calculate the melt rate for each of the three scenarios and place their values in an array called Melt. The equation is as follow: Melt = DDF_snow * Temperature."
   ]
  },
  {
   "cell_type": "code",
   "execution_count": null,
   "id": "82155be9-33b7-4a86-b4d1-7a648faef3a9",
   "metadata": {},
   "outputs": [],
   "source": []
  },
  {
   "cell_type": "markdown",
   "id": "dddfa559-13f5-4e0a-88a3-3ec3257325a2",
   "metadata": {},
   "source": [
    "<details>\n",
    "    <summary>👉 <b>Click to see solution</b></summary>\n",
    "\n",
    "```python\n",
    "Melt = DDF_snow_hr * Temperature_K\n",
    "```\n",
    "</details>\n"
   ]
  },
  {
   "cell_type": "markdown",
   "id": "f70636b2-e02c-4afd-9287-26b76bb4d22b",
   "metadata": {},
   "source": [
    "The last step for this section is to round the numbers in the Melt array to three decimal points."
   ]
  },
  {
   "cell_type": "code",
   "execution_count": null,
   "id": "cd6a38b3-7230-404c-91c1-eed405477f21",
   "metadata": {},
   "outputs": [],
   "source": []
  },
  {
   "cell_type": "markdown",
   "id": "903b2021-3cc8-4119-992e-6c024d935dca",
   "metadata": {},
   "source": [
    "<details>\n",
    "    <summary>👉 <b>Click to see solution</b></summary>\n",
    "\n",
    "```python\n",
    "np.round(Melt, 3)\n",
    "```\n",
    "</details>"
   ]
  }
 ],
 "metadata": {
  "kernelspec": {
   "display_name": "CSDMS",
   "language": "python",
   "name": "csdms-2023"
  },
  "language_info": {
   "codemirror_mode": {
    "name": "ipython",
    "version": 3
   },
   "file_extension": ".py",
   "mimetype": "text/x-python",
   "name": "python",
   "nbconvert_exporter": "python",
   "pygments_lexer": "ipython3",
   "version": "3.9.16"
  }
 },
 "nbformat": 4,
 "nbformat_minor": 5
}
